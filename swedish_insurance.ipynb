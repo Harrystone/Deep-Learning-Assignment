{
  "nbformat": 4,
  "nbformat_minor": 0,
  "metadata": {
    "colab": {
      "name": "swedish_insurance.ipynb",
      "provenance": [],
      "authorship_tag": "ABX9TyMlsNXLMZslz3/+rvbaYt35",
      "include_colab_link": true
    },
    "kernelspec": {
      "name": "python3",
      "display_name": "Python 3"
    },
    "language_info": {
      "name": "python"
    }
  },
  "cells": [
    {
      "cell_type": "markdown",
      "metadata": {
        "id": "view-in-github",
        "colab_type": "text"
      },
      "source": [
        "<a href=\"https://colab.research.google.com/github/Harrystone/Deep-Learning-Assignment/blob/main/swedish_insurance.ipynb\" target=\"_parent\"><img src=\"https://colab.research.google.com/assets/colab-badge.svg\" alt=\"Open In Colab\"/></a>"
      ]
    },
    {
      "cell_type": "code",
      "metadata": {
        "id": "C289gQfbRTcg"
      },
      "source": [
        "import numpy as np\n",
        "import pandas as pd\n",
        "import seaborn as sns\n",
        "from google.colab import drive\n",
        "from sklearn.model_selection import train_test_split\n",
        "import matplotlib.pyplot as plt\n",
        "%matplotlib inline"
      ],
      "execution_count": null,
      "outputs": []
    },
    {
      "cell_type": "code",
      "metadata": {
        "colab": {
          "base_uri": "https://localhost:8080/"
        },
        "id": "8_cnubI1TL4y",
        "outputId": "9e73d65c-3606-4244-da31-a8193bf424ef"
      },
      "source": [
        "drive.mount('/content/drive')"
      ],
      "execution_count": null,
      "outputs": [
        {
          "output_type": "stream",
          "text": [
            "Mounted at /content/drive\n"
          ],
          "name": "stdout"
        }
      ]
    },
    {
      "cell_type": "code",
      "metadata": {
        "id": "g2lxNpewTRZY"
      },
      "source": [
        "data_path = \"/content/drive/MyDrive/Deep Learning Class/Assignment-1/swedish_insurance.csv\""
      ],
      "execution_count": null,
      "outputs": []
    },
    {
      "cell_type": "code",
      "metadata": {
        "id": "twHd5DN6Tuwr"
      },
      "source": [
        "data = pd.read_csv(data_path)"
      ],
      "execution_count": null,
      "outputs": []
    },
    {
      "cell_type": "code",
      "metadata": {
        "colab": {
          "base_uri": "https://localhost:8080/",
          "height": 203
        },
        "id": "AsQNlUjPT2Dd",
        "outputId": "6ba023fb-75fe-42f4-ac13-12cb0bec8a19"
      },
      "source": [
        "data.head()"
      ],
      "execution_count": null,
      "outputs": [
        {
          "output_type": "execute_result",
          "data": {
            "text/html": [
              "<div>\n",
              "<style scoped>\n",
              "    .dataframe tbody tr th:only-of-type {\n",
              "        vertical-align: middle;\n",
              "    }\n",
              "\n",
              "    .dataframe tbody tr th {\n",
              "        vertical-align: top;\n",
              "    }\n",
              "\n",
              "    .dataframe thead th {\n",
              "        text-align: right;\n",
              "    }\n",
              "</style>\n",
              "<table border=\"1\" class=\"dataframe\">\n",
              "  <thead>\n",
              "    <tr style=\"text-align: right;\">\n",
              "      <th></th>\n",
              "      <th>X</th>\n",
              "      <th>Y</th>\n",
              "    </tr>\n",
              "  </thead>\n",
              "  <tbody>\n",
              "    <tr>\n",
              "      <th>0</th>\n",
              "      <td>108</td>\n",
              "      <td>392.5</td>\n",
              "    </tr>\n",
              "    <tr>\n",
              "      <th>1</th>\n",
              "      <td>19</td>\n",
              "      <td>46.2</td>\n",
              "    </tr>\n",
              "    <tr>\n",
              "      <th>2</th>\n",
              "      <td>13</td>\n",
              "      <td>15.7</td>\n",
              "    </tr>\n",
              "    <tr>\n",
              "      <th>3</th>\n",
              "      <td>124</td>\n",
              "      <td>422.2</td>\n",
              "    </tr>\n",
              "    <tr>\n",
              "      <th>4</th>\n",
              "      <td>40</td>\n",
              "      <td>119.4</td>\n",
              "    </tr>\n",
              "  </tbody>\n",
              "</table>\n",
              "</div>"
            ],
            "text/plain": [
              "     X      Y\n",
              "0  108  392.5\n",
              "1   19   46.2\n",
              "2   13   15.7\n",
              "3  124  422.2\n",
              "4   40  119.4"
            ]
          },
          "metadata": {
            "tags": []
          },
          "execution_count": 5
        }
      ]
    },
    {
      "cell_type": "code",
      "metadata": {
        "colab": {
          "base_uri": "https://localhost:8080/"
        },
        "id": "dIlmsEQTT3u5",
        "outputId": "293d8e13-21d6-413d-aef2-134afd5da91b"
      },
      "source": [
        "data.isnull().sum()"
      ],
      "execution_count": null,
      "outputs": [
        {
          "output_type": "execute_result",
          "data": {
            "text/plain": [
              "X    0\n",
              "Y    0\n",
              "dtype: int64"
            ]
          },
          "metadata": {
            "tags": []
          },
          "execution_count": 6
        }
      ]
    },
    {
      "cell_type": "code",
      "metadata": {
        "colab": {
          "base_uri": "https://localhost:8080/"
        },
        "id": "--ou4-h2T9en",
        "outputId": "ca5e7177-fdf5-4834-9e1a-f5df35026daa"
      },
      "source": [
        "x_train, x_test, y_train, y_test = train_test_split(data['X'],data['Y'],test_size = 0.3, random_state = 42)\n",
        "x_train.shape,x_test.shape"
      ],
      "execution_count": null,
      "outputs": [
        {
          "output_type": "execute_result",
          "data": {
            "text/plain": [
              "((44,), (19,))"
            ]
          },
          "metadata": {
            "tags": []
          },
          "execution_count": 7
        }
      ]
    },
    {
      "cell_type": "code",
      "metadata": {
        "id": "LbmthopLVPpW"
      },
      "source": [
        "from sklearn.preprocessing import StandardScaler\n",
        "scaler = StandardScaler()\n",
        "x_train = np.array(x_train).reshape(-1,1)\n",
        "x_test = np.array(x_test).reshape(-1,1)\n",
        "x_train_scaled = scaler.fit_transform(x_train)\n",
        "x_test_scaled = scaler.transform(x_test)"
      ],
      "execution_count": null,
      "outputs": []
    },
    {
      "cell_type": "code",
      "metadata": {
        "colab": {
          "base_uri": "https://localhost:8080/"
        },
        "id": "4vO1VZA1ilgm",
        "outputId": "41d1a2ad-8d0c-4a16-91f1-d75b0a620de6"
      },
      "source": [
        "x_test_scaled"
      ],
      "execution_count": null,
      "outputs": [
        {
          "output_type": "execute_result",
          "data": {
            "text/plain": [
              "array([[ 2.29046901],\n",
              "       [ 0.37146805],\n",
              "       [ 5.92995358],\n",
              "       [ 1.23170986],\n",
              "       [ 2.5551588 ],\n",
              "       [ 2.81984858],\n",
              "       [ 0.37146805],\n",
              "       [-0.48877375],\n",
              "       [-0.75346354],\n",
              "       [-0.29025641],\n",
              "       [ 0.70233029],\n",
              "       [-0.5549462 ],\n",
              "       [-0.35642886],\n",
              "       [ 0.30529561],\n",
              "       [ 0.23912316],\n",
              "       [-1.01815333],\n",
              "       [ 6.98871273],\n",
              "       [-0.81963599],\n",
              "       [-0.68729109]])"
            ]
          },
          "metadata": {
            "tags": []
          },
          "execution_count": 9
        }
      ]
    },
    {
      "cell_type": "code",
      "metadata": {
        "id": "7uGsim8wPPiV"
      },
      "source": [
        "from tensorflow.keras.models import Sequential\n",
        "from tensorflow.keras.layers import Dense\n",
        "from tensorflow.keras.optimizers import Adam\n",
        "\n",
        "model = Sequential()\n",
        "model.add(Dense(32, input_dim=1, activation='relu'))\n",
        "model.add(Dense(16, activation='relu'))\n",
        "model.add(Dense(1))\n",
        "\n",
        "model.compile(loss = 'mse', optimizer='adam')"
      ],
      "execution_count": null,
      "outputs": []
    },
    {
      "cell_type": "code",
      "metadata": {
        "colab": {
          "base_uri": "https://localhost:8080/"
        },
        "id": "WCSKIDorQFjG",
        "outputId": "4e9f0632-9ead-4089-aa65-78854b3be7e7"
      },
      "source": [
        "model.summary()"
      ],
      "execution_count": null,
      "outputs": [
        {
          "output_type": "stream",
          "text": [
            "Model: \"sequential_1\"\n",
            "_________________________________________________________________\n",
            "Layer (type)                 Output Shape              Param #   \n",
            "=================================================================\n",
            "dense_3 (Dense)              (None, 32)                64        \n",
            "_________________________________________________________________\n",
            "dense_4 (Dense)              (None, 16)                528       \n",
            "_________________________________________________________________\n",
            "dense_5 (Dense)              (None, 1)                 17        \n",
            "=================================================================\n",
            "Total params: 609\n",
            "Trainable params: 609\n",
            "Non-trainable params: 0\n",
            "_________________________________________________________________\n"
          ],
          "name": "stdout"
        }
      ]
    },
    {
      "cell_type": "code",
      "metadata": {
        "id": "av-UKTzjRTS1"
      },
      "source": [
        "from tensorflow.keras.callbacks import EarlyStopping\n",
        "early_stop = EarlyStopping(monitor='val_loss', mode='min', verbose=1, patience=10)"
      ],
      "execution_count": null,
      "outputs": []
    },
    {
      "cell_type": "code",
      "metadata": {
        "colab": {
          "base_uri": "https://localhost:8080/"
        },
        "id": "D_HCApUjQL7P",
        "outputId": "6f39c2f0-faae-4ade-8a3d-dd1397c50d8a"
      },
      "source": [
        "history = model.fit(x_train_scaled, y_train.values, batch_size=32, epochs=100, validation_data= None, validation_split=0.2, verbose=1, callbacks=[early_stop])"
      ],
      "execution_count": null,
      "outputs": [
        {
          "output_type": "stream",
          "text": [
            "Epoch 1/100\n",
            "2/2 [==============================] - 0s 50ms/step - loss: 3728.8489 - val_loss: 4058.6770\n",
            "Epoch 2/100\n",
            "2/2 [==============================] - 0s 20ms/step - loss: 3647.0623 - val_loss: 3982.9353\n",
            "Epoch 3/100\n",
            "2/2 [==============================] - 0s 19ms/step - loss: 3558.6648 - val_loss: 3912.0208\n",
            "Epoch 4/100\n",
            "2/2 [==============================] - 0s 24ms/step - loss: 3471.5227 - val_loss: 3838.5134\n",
            "Epoch 5/100\n",
            "2/2 [==============================] - 0s 22ms/step - loss: 3399.5361 - val_loss: 3764.7646\n",
            "Epoch 6/100\n",
            "2/2 [==============================] - 0s 24ms/step - loss: 3313.3674 - val_loss: 3695.0564\n",
            "Epoch 7/100\n",
            "2/2 [==============================] - 0s 20ms/step - loss: 3241.3821 - val_loss: 3628.1670\n",
            "Epoch 8/100\n",
            "2/2 [==============================] - 0s 19ms/step - loss: 3162.9568 - val_loss: 3562.7551\n",
            "Epoch 9/100\n",
            "2/2 [==============================] - 0s 22ms/step - loss: 3095.5483 - val_loss: 3496.2361\n",
            "Epoch 10/100\n",
            "2/2 [==============================] - 0s 20ms/step - loss: 3022.5608 - val_loss: 3430.4587\n",
            "Epoch 11/100\n",
            "2/2 [==============================] - 0s 20ms/step - loss: 2953.5847 - val_loss: 3364.8899\n",
            "Epoch 12/100\n",
            "2/2 [==============================] - 0s 24ms/step - loss: 2889.2607 - val_loss: 3303.5088\n",
            "Epoch 13/100\n",
            "2/2 [==============================] - 0s 22ms/step - loss: 2823.8123 - val_loss: 3247.5398\n",
            "Epoch 14/100\n",
            "2/2 [==============================] - 0s 20ms/step - loss: 2767.2405 - val_loss: 3194.9185\n",
            "Epoch 15/100\n",
            "2/2 [==============================] - 0s 21ms/step - loss: 2712.6638 - val_loss: 3144.2668\n",
            "Epoch 16/100\n",
            "2/2 [==============================] - 0s 23ms/step - loss: 2657.5466 - val_loss: 3089.5908\n",
            "Epoch 17/100\n",
            "2/2 [==============================] - 0s 24ms/step - loss: 2604.6646 - val_loss: 3029.3232\n",
            "Epoch 18/100\n",
            "2/2 [==============================] - 0s 22ms/step - loss: 2550.8538 - val_loss: 2971.1443\n",
            "Epoch 19/100\n",
            "2/2 [==============================] - 0s 20ms/step - loss: 2494.6851 - val_loss: 2920.0784\n",
            "Epoch 20/100\n",
            "2/2 [==============================] - 0s 21ms/step - loss: 2440.3879 - val_loss: 2870.9189\n",
            "Epoch 21/100\n",
            "2/2 [==============================] - 0s 25ms/step - loss: 2396.3586 - val_loss: 2820.9275\n",
            "Epoch 22/100\n",
            "2/2 [==============================] - 0s 20ms/step - loss: 2345.6982 - val_loss: 2769.8706\n",
            "Epoch 23/100\n",
            "2/2 [==============================] - 0s 21ms/step - loss: 2303.0093 - val_loss: 2718.3828\n",
            "Epoch 24/100\n",
            "2/2 [==============================] - 0s 21ms/step - loss: 2253.0535 - val_loss: 2668.3359\n",
            "Epoch 25/100\n",
            "2/2 [==============================] - 0s 24ms/step - loss: 2212.2092 - val_loss: 2620.4417\n",
            "Epoch 26/100\n",
            "2/2 [==============================] - 0s 28ms/step - loss: 2163.2036 - val_loss: 2572.5090\n",
            "Epoch 27/100\n",
            "2/2 [==============================] - 0s 27ms/step - loss: 2125.6272 - val_loss: 2522.2356\n",
            "Epoch 28/100\n",
            "2/2 [==============================] - 0s 22ms/step - loss: 2083.4800 - val_loss: 2475.4951\n",
            "Epoch 29/100\n",
            "2/2 [==============================] - 0s 20ms/step - loss: 2042.3890 - val_loss: 2430.8379\n",
            "Epoch 30/100\n",
            "2/2 [==============================] - 0s 30ms/step - loss: 2007.0931 - val_loss: 2387.0908\n",
            "Epoch 31/100\n",
            "2/2 [==============================] - 0s 25ms/step - loss: 1970.7933 - val_loss: 2344.4092\n",
            "Epoch 32/100\n",
            "2/2 [==============================] - 0s 19ms/step - loss: 1936.3580 - val_loss: 2301.2466\n",
            "Epoch 33/100\n",
            "2/2 [==============================] - 0s 20ms/step - loss: 1906.0891 - val_loss: 2260.0371\n",
            "Epoch 34/100\n",
            "2/2 [==============================] - 0s 20ms/step - loss: 1873.4835 - val_loss: 2221.9795\n",
            "Epoch 35/100\n",
            "2/2 [==============================] - 0s 32ms/step - loss: 1846.0277 - val_loss: 2185.8298\n",
            "Epoch 36/100\n",
            "2/2 [==============================] - 0s 27ms/step - loss: 1818.8921 - val_loss: 2151.0959\n",
            "Epoch 37/100\n",
            "2/2 [==============================] - 0s 20ms/step - loss: 1795.5991 - val_loss: 2117.6533\n",
            "Epoch 38/100\n",
            "2/2 [==============================] - 0s 22ms/step - loss: 1770.7008 - val_loss: 2084.9072\n",
            "Epoch 39/100\n",
            "2/2 [==============================] - 0s 22ms/step - loss: 1746.7175 - val_loss: 2049.4678\n",
            "Epoch 40/100\n",
            "2/2 [==============================] - 0s 22ms/step - loss: 1726.8893 - val_loss: 2014.3843\n",
            "Epoch 41/100\n",
            "2/2 [==============================] - 0s 24ms/step - loss: 1703.2769 - val_loss: 1983.3540\n",
            "Epoch 42/100\n",
            "2/2 [==============================] - 0s 22ms/step - loss: 1684.6382 - val_loss: 1956.4434\n",
            "Epoch 43/100\n",
            "2/2 [==============================] - 0s 20ms/step - loss: 1665.6957 - val_loss: 1931.4777\n",
            "Epoch 44/100\n",
            "2/2 [==============================] - 0s 19ms/step - loss: 1651.2341 - val_loss: 1905.9021\n",
            "Epoch 45/100\n",
            "2/2 [==============================] - 0s 23ms/step - loss: 1633.9128 - val_loss: 1877.8862\n",
            "Epoch 46/100\n",
            "2/2 [==============================] - 0s 23ms/step - loss: 1621.1450 - val_loss: 1849.0430\n",
            "Epoch 47/100\n",
            "2/2 [==============================] - 0s 20ms/step - loss: 1604.8457 - val_loss: 1823.2681\n",
            "Epoch 48/100\n",
            "2/2 [==============================] - 0s 20ms/step - loss: 1592.1023 - val_loss: 1799.9771\n",
            "Epoch 49/100\n",
            "2/2 [==============================] - 0s 21ms/step - loss: 1580.1635 - val_loss: 1779.6589\n",
            "Epoch 50/100\n",
            "2/2 [==============================] - 0s 31ms/step - loss: 1570.0333 - val_loss: 1761.5294\n",
            "Epoch 51/100\n",
            "2/2 [==============================] - 0s 24ms/step - loss: 1561.5063 - val_loss: 1745.5680\n",
            "Epoch 52/100\n",
            "2/2 [==============================] - 0s 26ms/step - loss: 1553.9274 - val_loss: 1732.0028\n",
            "Epoch 53/100\n",
            "2/2 [==============================] - 0s 21ms/step - loss: 1546.5677 - val_loss: 1717.9642\n",
            "Epoch 54/100\n",
            "2/2 [==============================] - 0s 19ms/step - loss: 1540.6687 - val_loss: 1702.2612\n",
            "Epoch 55/100\n",
            "2/2 [==============================] - 0s 22ms/step - loss: 1532.4388 - val_loss: 1684.4764\n",
            "Epoch 56/100\n",
            "2/2 [==============================] - 0s 19ms/step - loss: 1526.2859 - val_loss: 1665.4620\n",
            "Epoch 57/100\n",
            "2/2 [==============================] - 0s 20ms/step - loss: 1517.0078 - val_loss: 1646.5616\n",
            "Epoch 58/100\n",
            "2/2 [==============================] - 0s 24ms/step - loss: 1511.2013 - val_loss: 1628.2704\n",
            "Epoch 59/100\n",
            "2/2 [==============================] - 0s 22ms/step - loss: 1504.0010 - val_loss: 1613.3794\n",
            "Epoch 60/100\n",
            "2/2 [==============================] - 0s 25ms/step - loss: 1498.4697 - val_loss: 1600.8474\n",
            "Epoch 61/100\n",
            "2/2 [==============================] - 0s 22ms/step - loss: 1494.0524 - val_loss: 1590.2720\n",
            "Epoch 62/100\n",
            "2/2 [==============================] - 0s 21ms/step - loss: 1490.2390 - val_loss: 1581.3655\n",
            "Epoch 63/100\n",
            "2/2 [==============================] - 0s 24ms/step - loss: 1487.6260 - val_loss: 1575.3203\n",
            "Epoch 64/100\n",
            "2/2 [==============================] - 0s 28ms/step - loss: 1484.7589 - val_loss: 1569.9429\n",
            "Epoch 65/100\n",
            "2/2 [==============================] - 0s 20ms/step - loss: 1482.6420 - val_loss: 1561.0067\n",
            "Epoch 66/100\n",
            "2/2 [==============================] - 0s 21ms/step - loss: 1478.7606 - val_loss: 1546.2974\n",
            "Epoch 67/100\n",
            "2/2 [==============================] - 0s 20ms/step - loss: 1476.5115 - val_loss: 1529.8550\n",
            "Epoch 68/100\n",
            "2/2 [==============================] - 0s 20ms/step - loss: 1471.0966 - val_loss: 1517.9738\n",
            "Epoch 69/100\n",
            "2/2 [==============================] - 0s 21ms/step - loss: 1467.1230 - val_loss: 1508.8164\n",
            "Epoch 70/100\n",
            "2/2 [==============================] - 0s 22ms/step - loss: 1464.3802 - val_loss: 1501.4470\n",
            "Epoch 71/100\n",
            "2/2 [==============================] - 0s 21ms/step - loss: 1461.5479 - val_loss: 1493.4456\n",
            "Epoch 72/100\n",
            "2/2 [==============================] - 0s 21ms/step - loss: 1459.6393 - val_loss: 1484.8502\n",
            "Epoch 73/100\n",
            "2/2 [==============================] - 0s 24ms/step - loss: 1457.8632 - val_loss: 1480.8263\n",
            "Epoch 74/100\n",
            "2/2 [==============================] - 0s 21ms/step - loss: 1455.5587 - val_loss: 1480.2305\n",
            "Epoch 75/100\n",
            "2/2 [==============================] - 0s 26ms/step - loss: 1454.9919 - val_loss: 1476.1868\n",
            "Epoch 76/100\n",
            "2/2 [==============================] - 0s 22ms/step - loss: 1453.2533 - val_loss: 1466.9738\n",
            "Epoch 77/100\n",
            "2/2 [==============================] - 0s 22ms/step - loss: 1451.6947 - val_loss: 1457.6145\n",
            "Epoch 78/100\n",
            "2/2 [==============================] - 0s 26ms/step - loss: 1448.8751 - val_loss: 1450.0801\n",
            "Epoch 79/100\n",
            "2/2 [==============================] - 0s 29ms/step - loss: 1448.1283 - val_loss: 1446.1918\n",
            "Epoch 80/100\n",
            "2/2 [==============================] - 0s 22ms/step - loss: 1446.1460 - val_loss: 1443.1555\n",
            "Epoch 81/100\n",
            "2/2 [==============================] - 0s 23ms/step - loss: 1445.2772 - val_loss: 1437.1116\n",
            "Epoch 82/100\n",
            "2/2 [==============================] - 0s 29ms/step - loss: 1443.8861 - val_loss: 1431.1168\n",
            "Epoch 83/100\n",
            "2/2 [==============================] - 0s 22ms/step - loss: 1442.9556 - val_loss: 1426.1252\n",
            "Epoch 84/100\n",
            "2/2 [==============================] - 0s 21ms/step - loss: 1441.8926 - val_loss: 1423.6876\n",
            "Epoch 85/100\n",
            "2/2 [==============================] - 0s 19ms/step - loss: 1441.2651 - val_loss: 1423.5173\n",
            "Epoch 86/100\n",
            "2/2 [==============================] - 0s 22ms/step - loss: 1440.9783 - val_loss: 1423.9332\n",
            "Epoch 87/100\n",
            "2/2 [==============================] - 0s 23ms/step - loss: 1440.8115 - val_loss: 1425.3242\n",
            "Epoch 88/100\n",
            "2/2 [==============================] - 0s 26ms/step - loss: 1440.8375 - val_loss: 1427.4827\n",
            "Epoch 89/100\n",
            "2/2 [==============================] - 0s 20ms/step - loss: 1440.9377 - val_loss: 1428.2992\n",
            "Epoch 90/100\n",
            "2/2 [==============================] - 0s 21ms/step - loss: 1440.8091 - val_loss: 1428.1377\n",
            "Epoch 91/100\n",
            "2/2 [==============================] - 0s 21ms/step - loss: 1440.4563 - val_loss: 1428.2007\n",
            "Epoch 92/100\n",
            "2/2 [==============================] - 0s 25ms/step - loss: 1440.1935 - val_loss: 1428.6420\n",
            "Epoch 93/100\n",
            "2/2 [==============================] - 0s 23ms/step - loss: 1439.9583 - val_loss: 1428.3364\n",
            "Epoch 94/100\n",
            "2/2 [==============================] - 0s 24ms/step - loss: 1439.6895 - val_loss: 1426.2288\n",
            "Epoch 95/100\n",
            "2/2 [==============================] - 0s 23ms/step - loss: 1439.2833 - val_loss: 1424.2261\n",
            "Epoch 00095: early stopping\n"
          ],
          "name": "stdout"
        }
      ]
    },
    {
      "cell_type": "code",
      "metadata": {
        "colab": {
          "base_uri": "https://localhost:8080/",
          "height": 282
        },
        "id": "NdQ9ZzByQgNd",
        "outputId": "e8519f02-9d23-4328-a26c-e6f5a3ca8f31"
      },
      "source": [
        "losses = pd.DataFrame(model.history.history)\n",
        "losses.plot()"
      ],
      "execution_count": null,
      "outputs": [
        {
          "output_type": "execute_result",
          "data": {
            "text/plain": [
              "<matplotlib.axes._subplots.AxesSubplot at 0x7fba7433e990>"
            ]
          },
          "metadata": {
            "tags": []
          },
          "execution_count": 25
        },
        {
          "output_type": "display_data",
          "data": {
            "image/png": "[encoded data removed]",
            "text/plain": [
              "<Figure size 432x288 with 1 Axes>"
            ]
          },
          "metadata": {
            "tags": [],
            "needs_background": "light"
          }
        }
      ]
    },
    {
      "cell_type": "code",
      "metadata": {
        "id": "m-Ws-g0WQ8K-",
        "colab": {
          "base_uri": "https://localhost:8080/"
        },
        "outputId": "b68e9c0f-cda3-402e-b8a6-3563f7db17ea"
      },
      "source": [
        "from sklearn.metrics import mean_squared_error,mean_absolute_error\n",
        "predictions = model.predict(x_test_scaled)\n",
        "print(mean_absolute_error(y_test,predictions))\n",
        "print(np.sqrt(mean_squared_error(y_test,predictions)))"
      ],
      "execution_count": null,
      "outputs": [
        {
          "output_type": "stream",
          "text": [
            "33.33676442598041\n",
            "37.5850630435822\n"
          ],
          "name": "stdout"
        }
      ]
    },
    {
      "cell_type": "code",
      "metadata": {
        "id": "hW0u0wHatHLS"
      },
      "source": [
        ""
      ],
      "execution_count": null,
      "outputs": []
    }
  ]
}