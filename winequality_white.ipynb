{
  "nbformat": 4,
  "nbformat_minor": 0,
  "metadata": {
    "accelerator": "GPU",
    "colab": {
      "name": "winequality_white.ipynb",
      "provenance": [],
      "authorship_tag": "ABX9TyNtkQLrI5cWnrb1yBXyjiSS",
      "include_colab_link": true
    },
    "kernelspec": {
      "display_name": "Python 3",
      "name": "python3"
    },
    "language_info": {
      "name": "python"
    }
  },
  "cells": [
    {
      "cell_type": "markdown",
      "metadata": {
        "id": "view-in-github",
        "colab_type": "text"
      },
      "source": [
        "<a href=\"https://colab.research.google.com/github/Harrystone/Deep-Learning-Assignment/blob/main/winequality_white.ipynb\" target=\"_parent\"><img src=\"https://colab.research.google.com/assets/colab-badge.svg\" alt=\"Open In Colab\"/></a>"
      ]
    },
    {
      "cell_type": "code",
      "metadata": {
        "id": "wL7XK-WFI3jZ"
      },
      "source": [
        "import numpy as np\n",
        "import pandas as pd\n",
        "import seaborn as sns\n",
        "from sklearn.preprocessing import StandardScaler\n",
        "from google.colab import drive\n",
        "from keras.models import Sequential\n",
        "from keras.layers import Dense\n",
        "from sklearn.model_selection import train_test_split\n",
        "import matplotlib.pyplot as plt\n",
        "%matplotlib inline"
      ],
      "execution_count": null,
      "outputs": []
    },
    {
      "cell_type": "code",
      "metadata": {
        "colab": {
          "base_uri": "https://localhost:8080/"
        },
        "id": "y8oFet4HMbmN",
        "outputId": "73b4032c-09d6-44ad-c3e8-aefebdc5b1b0"
      },
      "source": [
        "drive.mount('/content/drive')"
      ],
      "execution_count": null,
      "outputs": [
        {
          "name": "stdout",
          "output_type": "stream",
          "text": [
            "Mounted at /content/drive\n"
          ]
        }
      ]
    },
    {
      "cell_type": "code",
      "metadata": {
        "id": "2tqDIQ7_McWM"
      },
      "source": [
        "data_path = \"/content/drive/MyDrive/Deep Learning Class/Assignment-1/winequality-white.csv\""
      ],
      "execution_count": null,
      "outputs": []
    },
    {
      "cell_type": "code",
      "metadata": {
        "id": "XVu26SZKM002"
      },
      "source": [
        "data = pd.read_csv(data_path)"
      ],
      "execution_count": null,
      "outputs": []
    },
    {
      "cell_type": "code",
      "metadata": {
        "colab": {
          "base_uri": "https://localhost:8080/",
          "height": 203
        },
        "id": "I_WEs-OaM2Vt",
        "outputId": "949ff6d1-b24d-4bc9-c66b-77cbe160fd77"
      },
      "source": [
        "data.head()"
      ],
      "execution_count": null,
      "outputs": [
        {
          "data": {
            "text/html": [
              "<div>\n",
              "<style scoped>\n",
              "    .dataframe tbody tr th:only-of-type {\n",
              "        vertical-align: middle;\n",
              "    }\n",
              "\n",
              "    .dataframe tbody tr th {\n",
              "        vertical-align: top;\n",
              "    }\n",
              "\n",
              "    .dataframe thead th {\n",
              "        text-align: right;\n",
              "    }\n",
              "</style>\n",
              "<table border=\"1\" class=\"dataframe\">\n",
              "  <thead>\n",
              "    <tr style=\"text-align: right;\">\n",
              "      <th></th>\n",
              "      <th>fixed acidity</th>\n",
              "      <th>volatile acidity</th>\n",
              "      <th>citric acid</th>\n",
              "      <th>residual sugar</th>\n",
              "      <th>chlorides</th>\n",
              "      <th>free sulfur dioxide</th>\n",
              "      <th>total sulfur dioxide</th>\n",
              "      <th>density</th>\n",
              "      <th>pH</th>\n",
              "      <th>sulphates</th>\n",
              "      <th>alcohol</th>\n",
              "      <th>quality</th>\n",
              "    </tr>\n",
              "  </thead>\n",
              "  <tbody>\n",
              "    <tr>\n",
              "      <th>0</th>\n",
              "      <td>7.0</td>\n",
              "      <td>0.27</td>\n",
              "      <td>0.36</td>\n",
              "      <td>20.7</td>\n",
              "      <td>0.045</td>\n",
              "      <td>45.0</td>\n",
              "      <td>170.0</td>\n",
              "      <td>1.0010</td>\n",
              "      <td>3.00</td>\n",
              "      <td>0.45</td>\n",
              "      <td>8.8</td>\n",
              "      <td>6</td>\n",
              "    </tr>\n",
              "    <tr>\n",
              "      <th>1</th>\n",
              "      <td>6.3</td>\n",
              "      <td>0.30</td>\n",
              "      <td>0.34</td>\n",
              "      <td>1.6</td>\n",
              "      <td>0.049</td>\n",
              "      <td>14.0</td>\n",
              "      <td>132.0</td>\n",
              "      <td>0.9940</td>\n",
              "      <td>3.30</td>\n",
              "      <td>0.49</td>\n",
              "      <td>9.5</td>\n",
              "      <td>6</td>\n",
              "    </tr>\n",
              "    <tr>\n",
              "      <th>2</th>\n",
              "      <td>8.1</td>\n",
              "      <td>0.28</td>\n",
              "      <td>0.40</td>\n",
              "      <td>6.9</td>\n",
              "      <td>0.050</td>\n",
              "      <td>30.0</td>\n",
              "      <td>97.0</td>\n",
              "      <td>0.9951</td>\n",
              "      <td>3.26</td>\n",
              "      <td>0.44</td>\n",
              "      <td>10.1</td>\n",
              "      <td>6</td>\n",
              "    </tr>\n",
              "    <tr>\n",
              "      <th>3</th>\n",
              "      <td>7.2</td>\n",
              "      <td>0.23</td>\n",
              "      <td>0.32</td>\n",
              "      <td>8.5</td>\n",
              "      <td>0.058</td>\n",
              "      <td>47.0</td>\n",
              "      <td>186.0</td>\n",
              "      <td>0.9956</td>\n",
              "      <td>3.19</td>\n",
              "      <td>0.40</td>\n",
              "      <td>9.9</td>\n",
              "      <td>6</td>\n",
              "    </tr>\n",
              "    <tr>\n",
              "      <th>4</th>\n",
              "      <td>7.2</td>\n",
              "      <td>0.23</td>\n",
              "      <td>0.32</td>\n",
              "      <td>8.5</td>\n",
              "      <td>0.058</td>\n",
              "      <td>47.0</td>\n",
              "      <td>186.0</td>\n",
              "      <td>0.9956</td>\n",
              "      <td>3.19</td>\n",
              "      <td>0.40</td>\n",
              "      <td>9.9</td>\n",
              "      <td>6</td>\n",
              "    </tr>\n",
              "  </tbody>\n",
              "</table>\n",
              "</div>"
            ],
            "text/plain": [
              "   fixed acidity  volatile acidity  citric acid  ...  sulphates  alcohol  quality\n",
              "0            7.0              0.27         0.36  ...       0.45      8.8        6\n",
              "1            6.3              0.30         0.34  ...       0.49      9.5        6\n",
              "2            8.1              0.28         0.40  ...       0.44     10.1        6\n",
              "3            7.2              0.23         0.32  ...       0.40      9.9        6\n",
              "4            7.2              0.23         0.32  ...       0.40      9.9        6\n",
              "\n",
              "[5 rows x 12 columns]"
            ]
          },
          "execution_count": 9,
          "metadata": {},
          "output_type": "execute_result"
        }
      ]
    },
    {
      "cell_type": "code",
      "metadata": {
        "colab": {
          "base_uri": "https://localhost:8080/"
        },
        "id": "QIBrRnXeM4QO",
        "outputId": "4d8bc9d7-1044-4be9-9709-92ec2fa473c2"
      },
      "source": [
        "data.isnull().info()"
      ],
      "execution_count": null,
      "outputs": [
        {
          "name": "stdout",
          "output_type": "stream",
          "text": [
            "<class 'pandas.core.frame.DataFrame'>\n",
            "RangeIndex: 4898 entries, 0 to 4897\n",
            "Data columns (total 12 columns):\n",
            " #   Column                Non-Null Count  Dtype\n",
            "---  ------                --------------  -----\n",
            " 0   fixed acidity         4898 non-null   bool \n",
            " 1   volatile acidity      4898 non-null   bool \n",
            " 2   citric acid           4898 non-null   bool \n",
            " 3   residual sugar        4898 non-null   bool \n",
            " 4   chlorides             4898 non-null   bool \n",
            " 5   free sulfur dioxide   4898 non-null   bool \n",
            " 6   total sulfur dioxide  4898 non-null   bool \n",
            " 7   density               4898 non-null   bool \n",
            " 8   pH                    4898 non-null   bool \n",
            " 9   sulphates             4898 non-null   bool \n",
            " 10  alcohol               4898 non-null   bool \n",
            " 11  quality               4898 non-null   bool \n",
            "dtypes: bool(12)\n",
            "memory usage: 57.5 KB\n"
          ]
        }
      ]
    },
    {
      "cell_type": "code",
      "metadata": {
        "colab": {
          "base_uri": "https://localhost:8080/"
        },
        "id": "892wL8p-JPZk",
        "outputId": "fec4d2ca-570a-496b-c159-f5c23da5f9a8"
      },
      "source": [
        "data['quality'].value_counts()"
      ],
      "execution_count": null,
      "outputs": [
        {
          "data": {
            "text/plain": [
              "6    2198\n",
              "5    1457\n",
              "7     880\n",
              "8     175\n",
              "4     163\n",
              "3      20\n",
              "9       5\n",
              "Name: quality, dtype: int64"
            ]
          },
          "execution_count": 11,
          "metadata": {},
          "output_type": "execute_result"
        }
      ]
    },
    {
      "cell_type": "code",
      "metadata": {
        "colab": {
          "base_uri": "https://localhost:8080/",
          "height": 262
        },
        "id": "vjbda5YB2IFW",
        "outputId": "c66c43d4-7454-41fd-e1f1-92da380a526f"
      },
      "source": [
        "data['quality'].value_counts().plot(kind='bar');"
      ],
      "execution_count": null,
      "outputs": [
        {
          "data": {
            "image/png": "[encoded data removed]",
            "text/plain": [
              "<Figure size 432x288 with 1 Axes>"
            ]
          },
          "metadata": {},
          "output_type": "display_data"
        }
      ]
    },
    {
      "cell_type": "code",
      "metadata": {
        "id": "9M2oyPG9M8mW"
      },
      "source": [
        "x_train,x_test,y_train,y_test = train_test_split(x,y,train_size=0.7, random_state = 34)"
      ],
      "execution_count": null,
      "outputs": []
    },
    {
      "cell_type": "code",
      "metadata": {
        "colab": {
          "base_uri": "https://localhost:8080/"
        },
        "id": "0QmoyXLIOKWe",
        "outputId": "28d7dd64-c4cd-47d4-872d-efc329f0d351"
      },
      "source": [
        "x.shape"
      ],
      "execution_count": null,
      "outputs": [
        {
          "output_type": "execute_result",
          "data": {
            "text/plain": [
              "(4898, 11)"
            ]
          },
          "metadata": {},
          "execution_count": 31
        }
      ]
    },
    {
      "cell_type": "code",
      "metadata": {
        "id": "fg-NBvt68k9T"
      },
      "source": [
        "scaler = StandardScaler()\n",
        "x_train_scaled = scaler.fit_transform(x_train)\n",
        "x_test_scaled = scaler.transform(x_test)"
      ],
      "execution_count": null,
      "outputs": []
    },
    {
      "cell_type": "code",
      "metadata": {
        "colab": {
          "base_uri": "https://localhost:8080/"
        },
        "id": "KOh2WP5290kz",
        "outputId": "23b2cdf8-99f6-4411-e4a0-e5076b84e1be"
      },
      "source": [
        "x_train_scaled"
      ],
      "execution_count": null,
      "outputs": [
        {
          "output_type": "execute_result",
          "data": {
            "text/plain": [
              "array([[ 0.77841253,  0.11572369,  2.80878002, ..., -1.92087851,\n",
              "        -0.70475467, -1.30520305],\n",
              "       [-1.49934945, -0.96694813, -0.36049177, ..., -0.78399343,\n",
              "        -0.35719331, -0.33869403],\n",
              "       [-0.18064514,  1.69051905, -0.27708988, ..., -0.44961546,\n",
              "        -0.27030297,  1.35269676],\n",
              "       ...,\n",
              "       [-2.45840713, -0.17955045, -0.86090311, ...,  1.82415471,\n",
              "        -1.83432909,  0.78889983],\n",
              "       [-1.13970282,  0.01729898, -1.61152011, ...,  0.62039403,\n",
              "        -0.44408365, -0.82194854],\n",
              "       [-0.18064514,  0.01729898, -0.19368799, ..., -0.9846202 ,\n",
              "        -0.18341263,  0.70835741]])"
            ]
          },
          "metadata": {},
          "execution_count": 38
        }
      ]
    },
    {
      "cell_type": "code",
      "metadata": {
        "id": "NNYA3tLWOWPn"
      },
      "source": [
        "# create model\n",
        "model = Sequential()\n",
        "model.add(Dense(32, input_dim=11, kernel_initializer='normal', activation='relu'))\n",
        "model.add(Dense(1, kernel_initializer='normal'))\n",
        "# Compile model\n",
        "model.compile(loss='mse', optimizer='adam')"
      ],
      "execution_count": null,
      "outputs": []
    },
    {
      "cell_type": "code",
      "metadata": {
        "colab": {
          "base_uri": "https://localhost:8080/"
        },
        "id": "U8-WZbVTffRV",
        "outputId": "be6ef2f6-7339-4ba2-b179-759de981e13d"
      },
      "source": [
        "history = model.fit(x_train_scaled, y_train.values, batch_size=32, epochs=100, validation_data= None, validation_split=0.2, verbose=1)"
      ],
      "execution_count": null,
      "outputs": [
        {
          "output_type": "stream",
          "name": "stdout",
          "text": [
            "Epoch 1/100\n",
            "86/86 [==============================] - 1s 4ms/step - loss: 31.6836 - val_loss: 27.7933\n",
            "Epoch 2/100\n",
            "86/86 [==============================] - 0s 3ms/step - loss: 18.2822 - val_loss: 11.3476\n",
            "Epoch 3/100\n",
            "86/86 [==============================] - 0s 3ms/step - loss: 6.2590 - val_loss: 4.2820\n",
            "Epoch 4/100\n",
            "86/86 [==============================] - 0s 4ms/step - loss: 3.2832 - val_loss: 2.9188\n",
            "Epoch 5/100\n",
            "86/86 [==============================] - 0s 3ms/step - loss: 2.4865 - val_loss: 2.3242\n",
            "Epoch 6/100\n",
            "86/86 [==============================] - 0s 4ms/step - loss: 2.0320 - val_loss: 1.9404\n",
            "Epoch 7/100\n",
            "86/86 [==============================] - 0s 3ms/step - loss: 1.7012 - val_loss: 1.6371\n",
            "Epoch 8/100\n",
            "86/86 [==============================] - 0s 3ms/step - loss: 1.4352 - val_loss: 1.3822\n",
            "Epoch 9/100\n",
            "86/86 [==============================] - 0s 3ms/step - loss: 1.2195 - val_loss: 1.1831\n",
            "Epoch 10/100\n",
            "86/86 [==============================] - 0s 3ms/step - loss: 1.0462 - val_loss: 1.0317\n",
            "Epoch 11/100\n",
            "86/86 [==============================] - 0s 4ms/step - loss: 0.9182 - val_loss: 0.9098\n",
            "Epoch 12/100\n",
            "86/86 [==============================] - 0s 3ms/step - loss: 0.8246 - val_loss: 0.8292\n",
            "Epoch 13/100\n",
            "86/86 [==============================] - 0s 3ms/step - loss: 0.7515 - val_loss: 0.7694\n",
            "Epoch 14/100\n",
            "86/86 [==============================] - 0s 3ms/step - loss: 0.6999 - val_loss: 0.7250\n",
            "Epoch 15/100\n",
            "86/86 [==============================] - 0s 3ms/step - loss: 0.6609 - val_loss: 0.6849\n",
            "Epoch 16/100\n",
            "86/86 [==============================] - 0s 3ms/step - loss: 0.6322 - val_loss: 0.6590\n",
            "Epoch 17/100\n",
            "86/86 [==============================] - 0s 3ms/step - loss: 0.6080 - val_loss: 0.6429\n",
            "Epoch 18/100\n",
            "86/86 [==============================] - 0s 3ms/step - loss: 0.5927 - val_loss: 0.6339\n",
            "Epoch 19/100\n",
            "86/86 [==============================] - 0s 3ms/step - loss: 0.5730 - val_loss: 0.6129\n",
            "Epoch 20/100\n",
            "86/86 [==============================] - 0s 3ms/step - loss: 0.5651 - val_loss: 0.6056\n",
            "Epoch 21/100\n",
            "86/86 [==============================] - 0s 3ms/step - loss: 0.5525 - val_loss: 0.6121\n",
            "Epoch 22/100\n",
            "86/86 [==============================] - 0s 4ms/step - loss: 0.5463 - val_loss: 0.5893\n",
            "Epoch 23/100\n",
            "86/86 [==============================] - 0s 3ms/step - loss: 0.5403 - val_loss: 0.5799\n",
            "Epoch 24/100\n",
            "86/86 [==============================] - 0s 3ms/step - loss: 0.5344 - val_loss: 0.5883\n",
            "Epoch 25/100\n",
            "86/86 [==============================] - 0s 4ms/step - loss: 0.5305 - val_loss: 0.5791\n",
            "Epoch 26/100\n",
            "86/86 [==============================] - 0s 4ms/step - loss: 0.5288 - val_loss: 0.5854\n",
            "Epoch 27/100\n",
            "86/86 [==============================] - 0s 3ms/step - loss: 0.5237 - val_loss: 0.5741\n",
            "Epoch 28/100\n",
            "86/86 [==============================] - 0s 3ms/step - loss: 0.5225 - val_loss: 0.5763\n",
            "Epoch 29/100\n",
            "86/86 [==============================] - 0s 4ms/step - loss: 0.5186 - val_loss: 0.5783\n",
            "Epoch 30/100\n",
            "86/86 [==============================] - 0s 3ms/step - loss: 0.5177 - val_loss: 0.5695\n",
            "Epoch 31/100\n",
            "86/86 [==============================] - 0s 4ms/step - loss: 0.5138 - val_loss: 0.5917\n",
            "Epoch 32/100\n",
            "86/86 [==============================] - 0s 3ms/step - loss: 0.5129 - val_loss: 0.5662\n",
            "Epoch 33/100\n",
            "86/86 [==============================] - 0s 4ms/step - loss: 0.5116 - val_loss: 0.5688\n",
            "Epoch 34/100\n",
            "86/86 [==============================] - 0s 3ms/step - loss: 0.5098 - val_loss: 0.5645\n",
            "Epoch 35/100\n",
            "86/86 [==============================] - 0s 3ms/step - loss: 0.5073 - val_loss: 0.5670\n",
            "Epoch 36/100\n",
            "86/86 [==============================] - 0s 3ms/step - loss: 0.5097 - val_loss: 0.5627\n",
            "Epoch 37/100\n",
            "86/86 [==============================] - 0s 4ms/step - loss: 0.5048 - val_loss: 0.5615\n",
            "Epoch 38/100\n",
            "86/86 [==============================] - 0s 3ms/step - loss: 0.5037 - val_loss: 0.5556\n",
            "Epoch 39/100\n",
            "86/86 [==============================] - 0s 3ms/step - loss: 0.5029 - val_loss: 0.5616\n",
            "Epoch 40/100\n",
            "86/86 [==============================] - 0s 3ms/step - loss: 0.5020 - val_loss: 0.5648\n",
            "Epoch 41/100\n",
            "86/86 [==============================] - 0s 3ms/step - loss: 0.5032 - val_loss: 0.5555\n",
            "Epoch 42/100\n",
            "86/86 [==============================] - 0s 3ms/step - loss: 0.4998 - val_loss: 0.5515\n",
            "Epoch 43/100\n",
            "86/86 [==============================] - 0s 3ms/step - loss: 0.5041 - val_loss: 0.5556\n",
            "Epoch 44/100\n",
            "86/86 [==============================] - 0s 3ms/step - loss: 0.4991 - val_loss: 0.5596\n",
            "Epoch 45/100\n",
            "86/86 [==============================] - 0s 3ms/step - loss: 0.4994 - val_loss: 0.5533\n",
            "Epoch 46/100\n",
            "86/86 [==============================] - 0s 4ms/step - loss: 0.4962 - val_loss: 0.5528\n",
            "Epoch 47/100\n",
            "86/86 [==============================] - 0s 4ms/step - loss: 0.4995 - val_loss: 0.5578\n",
            "Epoch 48/100\n",
            "86/86 [==============================] - 0s 4ms/step - loss: 0.4941 - val_loss: 0.5651\n",
            "Epoch 49/100\n",
            "86/86 [==============================] - 0s 4ms/step - loss: 0.4937 - val_loss: 0.5658\n",
            "Epoch 50/100\n",
            "86/86 [==============================] - 0s 3ms/step - loss: 0.4955 - val_loss: 0.5624\n",
            "Epoch 51/100\n",
            "86/86 [==============================] - 0s 3ms/step - loss: 0.4914 - val_loss: 0.5612\n",
            "Epoch 52/100\n",
            "86/86 [==============================] - 0s 3ms/step - loss: 0.4940 - val_loss: 0.5618\n",
            "Epoch 53/100\n",
            "86/86 [==============================] - 0s 4ms/step - loss: 0.4933 - val_loss: 0.5668\n",
            "Epoch 54/100\n",
            "86/86 [==============================] - 0s 4ms/step - loss: 0.4924 - val_loss: 0.5638\n",
            "Epoch 55/100\n",
            "86/86 [==============================] - 0s 3ms/step - loss: 0.4902 - val_loss: 0.5642\n",
            "Epoch 56/100\n",
            "86/86 [==============================] - 0s 4ms/step - loss: 0.4934 - val_loss: 0.5679\n",
            "Epoch 57/100\n",
            "86/86 [==============================] - 0s 3ms/step - loss: 0.4917 - val_loss: 0.5750\n",
            "Epoch 58/100\n",
            "86/86 [==============================] - 0s 3ms/step - loss: 0.4886 - val_loss: 0.5623\n",
            "Epoch 59/100\n",
            "86/86 [==============================] - 0s 4ms/step - loss: 0.4897 - val_loss: 0.5618\n",
            "Epoch 60/100\n",
            "86/86 [==============================] - 0s 4ms/step - loss: 0.4873 - val_loss: 0.5620\n",
            "Epoch 61/100\n",
            "86/86 [==============================] - 0s 4ms/step - loss: 0.4899 - val_loss: 0.5607\n",
            "Epoch 62/100\n",
            "86/86 [==============================] - 0s 4ms/step - loss: 0.4861 - val_loss: 0.5524\n",
            "Epoch 63/100\n",
            "86/86 [==============================] - 0s 3ms/step - loss: 0.4838 - val_loss: 0.5600\n",
            "Epoch 64/100\n",
            "86/86 [==============================] - 0s 4ms/step - loss: 0.4868 - val_loss: 0.5466\n",
            "Epoch 65/100\n",
            "86/86 [==============================] - 0s 3ms/step - loss: 0.4887 - val_loss: 0.5588\n",
            "Epoch 66/100\n",
            "86/86 [==============================] - 0s 4ms/step - loss: 0.4841 - val_loss: 0.5577\n",
            "Epoch 67/100\n",
            "86/86 [==============================] - 0s 4ms/step - loss: 0.4868 - val_loss: 0.5596\n",
            "Epoch 68/100\n",
            "86/86 [==============================] - 0s 4ms/step - loss: 0.4882 - val_loss: 0.5570\n",
            "Epoch 69/100\n",
            "86/86 [==============================] - 0s 3ms/step - loss: 0.4840 - val_loss: 0.5717\n",
            "Epoch 70/100\n",
            "86/86 [==============================] - 0s 3ms/step - loss: 0.4844 - val_loss: 0.5496\n",
            "Epoch 71/100\n",
            "86/86 [==============================] - 0s 3ms/step - loss: 0.4856 - val_loss: 0.5704\n",
            "Epoch 72/100\n",
            "86/86 [==============================] - 0s 4ms/step - loss: 0.4833 - val_loss: 0.5635\n",
            "Epoch 73/100\n",
            "86/86 [==============================] - 0s 3ms/step - loss: 0.4839 - val_loss: 0.5514\n",
            "Epoch 74/100\n",
            "86/86 [==============================] - 0s 3ms/step - loss: 0.4835 - val_loss: 0.5542\n",
            "Epoch 75/100\n",
            "86/86 [==============================] - 0s 4ms/step - loss: 0.4818 - val_loss: 0.5640\n",
            "Epoch 76/100\n",
            "86/86 [==============================] - 0s 3ms/step - loss: 0.4812 - val_loss: 0.5553\n",
            "Epoch 77/100\n",
            "86/86 [==============================] - 0s 3ms/step - loss: 0.4834 - val_loss: 0.5514\n",
            "Epoch 78/100\n",
            "86/86 [==============================] - 0s 3ms/step - loss: 0.4806 - val_loss: 0.5514\n",
            "Epoch 79/100\n",
            "86/86 [==============================] - 0s 4ms/step - loss: 0.4835 - val_loss: 0.5684\n",
            "Epoch 80/100\n",
            "86/86 [==============================] - 0s 3ms/step - loss: 0.4785 - val_loss: 0.5511\n",
            "Epoch 81/100\n",
            "86/86 [==============================] - 0s 3ms/step - loss: 0.4791 - val_loss: 0.5489\n",
            "Epoch 82/100\n",
            "86/86 [==============================] - 0s 3ms/step - loss: 0.4798 - val_loss: 0.5489\n",
            "Epoch 83/100\n",
            "86/86 [==============================] - 0s 4ms/step - loss: 0.4786 - val_loss: 0.5629\n",
            "Epoch 84/100\n",
            "86/86 [==============================] - 0s 3ms/step - loss: 0.4797 - val_loss: 0.5513\n",
            "Epoch 85/100\n",
            "86/86 [==============================] - 0s 4ms/step - loss: 0.4809 - val_loss: 0.5464\n",
            "Epoch 86/100\n",
            "86/86 [==============================] - 0s 3ms/step - loss: 0.4816 - val_loss: 0.5493\n",
            "Epoch 87/100\n",
            "86/86 [==============================] - 0s 3ms/step - loss: 0.4774 - val_loss: 0.5519\n",
            "Epoch 88/100\n",
            "86/86 [==============================] - 0s 3ms/step - loss: 0.4780 - val_loss: 0.5575\n",
            "Epoch 89/100\n",
            "86/86 [==============================] - 0s 3ms/step - loss: 0.4805 - val_loss: 0.5491\n",
            "Epoch 90/100\n",
            "86/86 [==============================] - 0s 3ms/step - loss: 0.4790 - val_loss: 0.5412\n",
            "Epoch 91/100\n",
            "86/86 [==============================] - 0s 3ms/step - loss: 0.4768 - val_loss: 0.5644\n",
            "Epoch 92/100\n",
            "86/86 [==============================] - 0s 3ms/step - loss: 0.4801 - val_loss: 0.5594\n",
            "Epoch 93/100\n",
            "86/86 [==============================] - 0s 4ms/step - loss: 0.4791 - val_loss: 0.5413\n",
            "Epoch 94/100\n",
            "86/86 [==============================] - 0s 4ms/step - loss: 0.4762 - val_loss: 0.5438\n",
            "Epoch 95/100\n",
            "86/86 [==============================] - 0s 4ms/step - loss: 0.4747 - val_loss: 0.5684\n",
            "Epoch 96/100\n",
            "86/86 [==============================] - 0s 3ms/step - loss: 0.4740 - val_loss: 0.5491\n",
            "Epoch 97/100\n",
            "86/86 [==============================] - 0s 3ms/step - loss: 0.4762 - val_loss: 0.5454\n",
            "Epoch 98/100\n",
            "86/86 [==============================] - 0s 4ms/step - loss: 0.4768 - val_loss: 0.5461\n",
            "Epoch 99/100\n",
            "86/86 [==============================] - 0s 4ms/step - loss: 0.4758 - val_loss: 0.5452\n",
            "Epoch 100/100\n",
            "86/86 [==============================] - 0s 3ms/step - loss: 0.4772 - val_loss: 0.5540\n"
          ]
        }
      ]
    },
    {
      "cell_type": "code",
      "metadata": {
        "colab": {
          "base_uri": "https://localhost:8080/",
          "height": 282
        },
        "id": "n2CVBwtM856C",
        "outputId": "ff80d992-72e3-4807-f71c-9faaf52ac5dd"
      },
      "source": [
        "losses = pd.DataFrame(model.history.history)\n",
        "losses.plot()"
      ],
      "execution_count": null,
      "outputs": [
        {
          "output_type": "execute_result",
          "data": {
            "text/plain": [
              "<matplotlib.axes._subplots.AxesSubplot at 0x7f97938f5a10>"
            ]
          },
          "metadata": {},
          "execution_count": 45
        },
        {
          "output_type": "display_data",
          "data": {
            "image/png": "[encoded data removed]",
            "text/plain": [
              "<Figure size 432x288 with 1 Axes>"
            ]
          },
          "metadata": {
            "needs_background": "light"
          }
        }
      ]
    },
    {
      "cell_type": "code",
      "metadata": {
        "colab": {
          "base_uri": "https://localhost:8080/"
        },
        "id": "3d7fVm5p-Zsq",
        "outputId": "1a56380c-c62a-4a63-bf13-a5a75713938a"
      },
      "source": [
        "from sklearn.metrics import mean_squared_error,mean_absolute_error\n",
        "predictions = model.predict(x_test_scaled)\n",
        "print(mean_absolute_error(y_test,predictions))\n",
        "print(np.sqrt(mean_squared_error(y_test,predictions)))"
      ],
      "execution_count": null,
      "outputs": [
        {
          "output_type": "stream",
          "name": "stdout",
          "text": [
            "0.5543034446482755\n",
            "0.7055087372170047\n"
          ]
        }
      ]
    },
    {
      "cell_type": "code",
      "metadata": {
        "id": "vwqEhP4fAUf5"
      },
      "source": [
        ""
      ],
      "execution_count": null,
      "outputs": []
    }
  ]
}